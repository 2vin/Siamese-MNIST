{
  "nbformat": 4,
  "nbformat_minor": 0,
  "metadata": {
    "colab": {
      "name": "Mnist_siamese.ipynb",
      "provenance": [],
      "collapsed_sections": []
    },
    "kernelspec": {
      "name": "python2",
      "display_name": "Python 2"
    }
  },
  "cells": [
    {
      "cell_type": "code",
      "metadata": {
        "id": "oEGj7g-670ho",
        "colab_type": "code",
        "colab": {}
      },
      "source": [
        "import keras"
      ],
      "execution_count": 0,
      "outputs": []
    },
    {
      "cell_type": "code",
      "metadata": {
        "id": "q4KTG-1eWA_P",
        "colab_type": "code",
        "colab": {}
      },
      "source": [
        "from __future__ import absolute_import\n",
        "from __future__ import print_function\n",
        "import numpy as np\n"
      ],
      "execution_count": 0,
      "outputs": []
    },
    {
      "cell_type": "code",
      "metadata": {
        "id": "ccaZWsC5XNec",
        "colab_type": "code",
        "colab": {}
      },
      "source": [
        "import random\n",
        "from keras.datasets import mnist\n",
        "from keras.models import Model\n",
        "from keras.layers import Input, Flatten, Dense, Dropout, Lambda\n",
        "from keras.layers import Conv2D, Activation,AveragePooling2D\n",
        "from keras.optimizers import RMSprop\n",
        "\n",
        "from keras import backend as K\n",
        "\n",
        "num_classes = 10\n",
        "epochs = 20"
      ],
      "execution_count": 0,
      "outputs": []
    },
    {
      "cell_type": "code",
      "metadata": {
        "id": "af0J41VqXl28",
        "colab_type": "code",
        "colab": {}
      },
      "source": [
        "def euclid_dis(vects):\n",
        "  x,y = vects\n",
        "  sum_square = K.sum(K.square(x-y), axis=1, keepdims=True)\n",
        "  return K.sqrt(K.maximum(sum_square, K.epsilon()))\n",
        "\n",
        "def eucl_dist_output_shape(shapes):\n",
        "    shape1, shape2 = shapes\n",
        "    return (shape1[0], 1)\n",
        "\n",
        "def contrastive_loss(y_true, y_pred):\n",
        "    margin = 1\n",
        "    square_pred = K.square(y_pred)\n",
        "    margin_square = K.square(K.maximum(margin - y_pred, 0))\n",
        "    return K.mean(y_true * square_pred + (1 - y_true) * margin_square)\n"
      ],
      "execution_count": 0,
      "outputs": []
    },
    {
      "cell_type": "code",
      "metadata": {
        "id": "SE4Np_H5Y5sE",
        "colab_type": "code",
        "colab": {}
      },
      "source": [
        "def create_pairs(x, digit_indices):\n",
        "  pairs = []\n",
        "  labels = []\n",
        "  \n",
        "  n=min([len(digit_indices[d]) for d in range(num_classes)]) -1\n",
        "  \n",
        "  for d in range(num_classes):\n",
        "    for i in range(n):\n",
        "      z1, z2 = digit_indices[d][i], digit_indices[d][i+1]\n",
        "      pairs += [[x[z1], x[z2]]]\n",
        "      inc = random.randrange(1, num_classes)\n",
        "      dn = (d + inc) % num_classes\n",
        "      z1, z2 = digit_indices[d][i], digit_indices[dn][i]\n",
        "      pairs += [[x[z1], x[z2]]]\n",
        "      labels += [1,0]\n",
        "  return np.array(pairs), np.array(labels)\n",
        "\n",
        "\n",
        "def create_base_net(input_shape):\n",
        "  \n",
        "  input = Input(shape = input_shape)\n",
        "  x = Conv2D(4, (5,5), activation = 'tanh')(input)\n",
        "  x = AveragePooling2D(pool_size = (2,2))(x)\n",
        "  x = Conv2D(16, (5,5), activation = 'tanh')(x)\n",
        "  x = AveragePooling2D(pool_size = (2,2))(x)\n",
        "  x = Flatten()(x)\n",
        "  x = Dense(10, activation = 'tanh')(x)\n",
        "  model = Model(input, x)\n",
        "  model.summary()\n",
        "  \n",
        "  return model"
      ],
      "execution_count": 0,
      "outputs": []
    },
    {
      "cell_type": "code",
      "metadata": {
        "id": "z84kahyuaSkd",
        "colab_type": "code",
        "colab": {
          "base_uri": "https://localhost:8080/",
          "height": 34
        },
        "outputId": "e1ece6b3-76ed-4b10-a16c-c562d96c3687"
      },
      "source": [
        "def compute_accuracy(y_true, y_pred):\n",
        "    '''Compute classification accuracy with a fixed threshold on distances.\n",
        "    '''\n",
        "    pred = y_pred.ravel() < 0.5\n",
        "    return np.mean(pred == y_true)\n",
        "\n",
        "\n",
        "def accuracy(y_true, y_pred):\n",
        "    '''Compute classification accuracy with a fixed threshold on distances.\n",
        "    '''\n",
        "    return K.mean(K.equal(y_true, K.cast(y_pred < 0.5, y_true.dtype)))\n",
        "\n",
        "\n",
        "# the data, split between train and test sets\n",
        "(x_train, y_train), (x_test, y_test) = mnist.load_data()\n",
        "\n",
        "\n",
        "x_train = x_train.reshape(x_train.shape[0], 28, 28,1)\n",
        "x_test = x_test.reshape(x_test.shape[0], 28, 28, 1)\n",
        "# input_shape = (1, 28, 28)\n",
        "print(x_train.shape)\n",
        "x_train = x_train.astype('float32')\n",
        "x_test = x_test.astype('float32')\n",
        "x_train /= 255\n",
        "x_test /= 255\n",
        "\n",
        "input_shape = x_train.shape[1:]\n",
        "input_shape = (28, 28, 1)\n"
      ],
      "execution_count": 58,
      "outputs": [
        {
          "output_type": "stream",
          "text": [
            "(60000, 28, 28, 1)\n"
          ],
          "name": "stdout"
        }
      ]
    },
    {
      "cell_type": "code",
      "metadata": {
        "id": "opNC60v7ca0s",
        "colab_type": "code",
        "outputId": "d99217db-00ae-419b-f2c4-364f2d41fa45",
        "colab": {
          "base_uri": "https://localhost:8080/",
          "height": 374
        }
      },
      "source": [
        "\n",
        "# create training+test positive and negative pairs\n",
        "digit_indices = [np.where(y_train == i)[0] for i in range(num_classes)]\n",
        "tr_pairs, tr_y = create_pairs(x_train, digit_indices)\n",
        "\n",
        "digit_indices = [np.where(y_test == i)[0] for i in range(num_classes)]\n",
        "te_pairs, te_y = create_pairs(x_test, digit_indices)\n",
        "\n",
        "# network definition\n",
        "base_network = create_base_net(input_shape)\n"
      ],
      "execution_count": 59,
      "outputs": [
        {
          "output_type": "stream",
          "text": [
            "_________________________________________________________________\n",
            "Layer (type)                 Output Shape              Param #   \n",
            "=================================================================\n",
            "input_19 (InputLayer)        (None, 28, 28, 1)         0         \n",
            "_________________________________________________________________\n",
            "conv2d_19 (Conv2D)           (None, 24, 24, 4)         104       \n",
            "_________________________________________________________________\n",
            "average_pooling2d_11 (Averag (None, 12, 12, 4)         0         \n",
            "_________________________________________________________________\n",
            "conv2d_20 (Conv2D)           (None, 8, 8, 16)          1616      \n",
            "_________________________________________________________________\n",
            "average_pooling2d_12 (Averag (None, 4, 4, 16)          0         \n",
            "_________________________________________________________________\n",
            "flatten_3 (Flatten)          (None, 256)               0         \n",
            "_________________________________________________________________\n",
            "dense_3 (Dense)              (None, 10)                2570      \n",
            "=================================================================\n",
            "Total params: 4,290\n",
            "Trainable params: 4,290\n",
            "Non-trainable params: 0\n",
            "_________________________________________________________________\n"
          ],
          "name": "stdout"
        }
      ]
    },
    {
      "cell_type": "code",
      "metadata": {
        "id": "J5SxAd_Tcicu",
        "colab_type": "code",
        "colab": {}
      },
      "source": [
        "input_a = Input(shape=input_shape)\n",
        "input_b = Input(shape=input_shape)\n",
        "\n",
        "processed_a = base_network(input_a)\n",
        "processed_b = base_network(input_b)\n",
        "\n",
        "distance = Lambda(euclid_dis,\n",
        "                  output_shape=eucl_dist_output_shape)([processed_a, processed_b])\n",
        "\n",
        "model = Model([input_a, input_b], distance)"
      ],
      "execution_count": 0,
      "outputs": []
    },
    {
      "cell_type": "code",
      "metadata": {
        "id": "K6uuTW49R-8Z",
        "colab_type": "code",
        "colab": {
          "base_uri": "https://localhost:8080/",
          "height": 870
        },
        "outputId": "ed82da0d-406a-440d-a630-bbaf346cfdd0"
      },
      "source": [
        "# train\n",
        "rms = RMSprop()\n",
        "model.compile(loss=contrastive_loss, optimizer=rms, metrics=[accuracy])\n",
        "model.fit([tr_pairs[:, 0], tr_pairs[:, 1]], tr_y,\n",
        "          batch_size=128,\n",
        "          epochs=epochs,\n",
        "          validation_data=([te_pairs[:, 0], te_pairs[:, 1]], te_y))\n"
      ],
      "execution_count": 61,
      "outputs": [
        {
          "output_type": "stream",
          "text": [
            "W0930 08:28:56.880398 140243689490304 deprecation.py:323] From /usr/local/lib/python2.7/dist-packages/tensorflow/python/ops/math_grad.py:1250: where (from tensorflow.python.ops.array_ops) is deprecated and will be removed in a future version.\n",
            "Instructions for updating:\n",
            "Use tf.where in 2.0, which has the same broadcast rule as np.where\n",
            "W0930 08:28:57.057897 140243689490304 deprecation_wrapper.py:119] From /usr/local/lib/python2.7/dist-packages/keras/backend/tensorflow_backend.py:986: The name tf.assign_add is deprecated. Please use tf.compat.v1.assign_add instead.\n",
            "\n",
            "W0930 08:28:57.067424 140243689490304 deprecation_wrapper.py:119] From /usr/local/lib/python2.7/dist-packages/keras/backend/tensorflow_backend.py:973: The name tf.assign is deprecated. Please use tf.compat.v1.assign instead.\n",
            "\n"
          ],
          "name": "stderr"
        },
        {
          "output_type": "stream",
          "text": [
            "Train on 108400 samples, validate on 17820 samples\n",
            "Epoch 1/20\n",
            "108400/108400 [==============================] - 70s 642us/step - loss: 0.1118 - accuracy: 0.8743 - val_loss: 0.0770 - val_accuracy: 0.9331\n",
            "Epoch 2/20\n",
            "108400/108400 [==============================] - 69s 636us/step - loss: 0.0769 - accuracy: 0.9318 - val_loss: 0.0641 - val_accuracy: 0.9457\n",
            "Epoch 3/20\n",
            "108400/108400 [==============================] - 69s 634us/step - loss: 0.0657 - accuracy: 0.9467 - val_loss: 0.0567 - val_accuracy: 0.9543\n",
            "Epoch 4/20\n",
            "108400/108400 [==============================] - 68s 631us/step - loss: 0.0593 - accuracy: 0.9546 - val_loss: 0.0535 - val_accuracy: 0.9643\n",
            "Epoch 5/20\n",
            "108400/108400 [==============================] - 69s 633us/step - loss: 0.0550 - accuracy: 0.9596 - val_loss: 0.0493 - val_accuracy: 0.9640\n",
            "Epoch 6/20\n",
            "108400/108400 [==============================] - 69s 634us/step - loss: 0.0516 - accuracy: 0.9629 - val_loss: 0.0462 - val_accuracy: 0.9666\n",
            "Epoch 7/20\n",
            "108400/108400 [==============================] - 69s 634us/step - loss: 0.0490 - accuracy: 0.9652 - val_loss: 0.0443 - val_accuracy: 0.9673\n",
            "Epoch 8/20\n",
            "108400/108400 [==============================] - 69s 633us/step - loss: 0.0468 - accuracy: 0.9676 - val_loss: 0.0428 - val_accuracy: 0.9729\n",
            "Epoch 9/20\n",
            "108400/108400 [==============================] - 69s 633us/step - loss: 0.0453 - accuracy: 0.9689 - val_loss: 0.0478 - val_accuracy: 0.9747\n",
            "Epoch 10/20\n",
            "108400/108400 [==============================] - 69s 632us/step - loss: 0.0441 - accuracy: 0.9698 - val_loss: 0.0413 - val_accuracy: 0.9687\n",
            "Epoch 11/20\n",
            "108400/108400 [==============================] - 68s 632us/step - loss: 0.0431 - accuracy: 0.9708 - val_loss: 0.0421 - val_accuracy: 0.9731\n",
            "Epoch 12/20\n",
            "108400/108400 [==============================] - 68s 631us/step - loss: 0.0421 - accuracy: 0.9717 - val_loss: 0.0416 - val_accuracy: 0.9647\n",
            "Epoch 13/20\n",
            "108400/108400 [==============================] - 68s 631us/step - loss: 0.0415 - accuracy: 0.9725 - val_loss: 0.0390 - val_accuracy: 0.9770\n",
            "Epoch 14/20\n",
            "108400/108400 [==============================] - 68s 632us/step - loss: 0.0408 - accuracy: 0.9728 - val_loss: 0.0411 - val_accuracy: 0.9787\n",
            "Epoch 15/20\n",
            "108400/108400 [==============================] - 68s 631us/step - loss: 0.0401 - accuracy: 0.9733 - val_loss: 0.0390 - val_accuracy: 0.9690\n",
            "Epoch 16/20\n",
            "108400/108400 [==============================] - 68s 631us/step - loss: 0.0397 - accuracy: 0.9738 - val_loss: 0.0371 - val_accuracy: 0.9732\n",
            "Epoch 17/20\n",
            "108400/108400 [==============================] - 68s 631us/step - loss: 0.0393 - accuracy: 0.9742 - val_loss: 0.0365 - val_accuracy: 0.9767\n",
            "Epoch 18/20\n",
            "108400/108400 [==============================] - 68s 630us/step - loss: 0.0388 - accuracy: 0.9747 - val_loss: 0.0385 - val_accuracy: 0.9763\n",
            "Epoch 19/20\n",
            "108400/108400 [==============================] - 68s 631us/step - loss: 0.0383 - accuracy: 0.9747 - val_loss: 0.0368 - val_accuracy: 0.9754\n",
            "Epoch 20/20\n",
            "108400/108400 [==============================] - 68s 629us/step - loss: 0.0381 - accuracy: 0.9748 - val_loss: 0.0381 - val_accuracy: 0.9699\n"
          ],
          "name": "stdout"
        },
        {
          "output_type": "execute_result",
          "data": {
            "text/plain": [
              "<keras.callbacks.History at 0x7f8cceb73f10>"
            ]
          },
          "metadata": {
            "tags": []
          },
          "execution_count": 61
        }
      ]
    },
    {
      "cell_type": "code",
      "metadata": {
        "id": "cpyjdGA0SQR0",
        "colab_type": "code",
        "colab": {
          "base_uri": "https://localhost:8080/",
          "height": 51
        },
        "outputId": "7313cbac-a2b4-49c7-d4ba-65df26278b44"
      },
      "source": [
        "# compute final accuracy on training and test sets\n",
        "y_pred = model.predict([tr_pairs[:, 0], tr_pairs[:, 1]])\n",
        "tr_acc = compute_accuracy(tr_y, y_pred)\n",
        "y_pred = model.predict([te_pairs[:, 0], te_pairs[:, 1]])\n",
        "te_acc = compute_accuracy(te_y, y_pred)\n",
        "\n",
        "print('* Accuracy on training set: %0.2f%%' % (100 * tr_acc))\n",
        "print('* Accuracy on test set: %0.2f%%' % (100 * te_acc))"
      ],
      "execution_count": 62,
      "outputs": [
        {
          "output_type": "stream",
          "text": [
            "* Accuracy on training set: 97.02%\n",
            "* Accuracy on test set: 96.99%\n"
          ],
          "name": "stdout"
        }
      ]
    },
    {
      "cell_type": "code",
      "metadata": {
        "id": "jLU7zanbe9tv",
        "colab_type": "code",
        "colab": {
          "base_uri": "https://localhost:8080/",
          "height": 445
        },
        "outputId": "7f4f9c13-2903-4078-ccb6-ad35a7fc2373"
      },
      "source": [
        "import matplotlib.pyplot as plt\n",
        "from PIL import Image\n",
        "number_of_items = 20\n",
        "import tensorflow as tf\n",
        "\n",
        "# print(tr_pairs[1,0].shape)\n",
        "# tr_pairs[1,0] = tr_pairs[1,0].reshape(28, 28)\n",
        "\n",
        "im = tf.keras.preprocessing.image.array_to_img(\n",
        "    tr_pairs[1,0],\n",
        "    data_format=None,\n",
        "    scale=True,\n",
        "    dtype=None\n",
        ")\n",
        "\n",
        "plt.figure(figsize=(10, 5))\n",
        "for item in range(number_of_items):\n",
        "    display = plt.subplot(1, number_of_items,item+1)\n",
        "    im = tf.keras.preprocessing.image.array_to_img( tr_pairs[item,0], data_format=None, scale=True,dtype=None)\n",
        "    plt.imshow(im, cmap=\"gray\")\n",
        "    display.get_xaxis().set_visible(False)\n",
        "    display.get_yaxis().set_visible(False)\n",
        "plt.show()\n",
        "\n",
        "plt.figure(figsize=(10, 5))\n",
        "for item in range(number_of_items):\n",
        "    display = plt.subplot(1, number_of_items,item+1)\n",
        "    im = tf.keras.preprocessing.image.array_to_img( tr_pairs[item,1], data_format=None, scale=True,dtype=None)\n",
        "    plt.imshow(im, cmap=\"gray\")\n",
        "    display.get_xaxis().set_visible(False)\n",
        "    display.get_yaxis().set_visible(False)\n",
        "plt.show()\n",
        "\n",
        "for i in range(number_of_items):\n",
        "  print(y_pred[i])\n",
        "# plt.figure(figsize=(20, 2))\n",
        "# plt.imshow(im, cmap=\"gray\")\n",
        "# plt.show()"
      ],
      "execution_count": 107,
      "outputs": [
        {
          "output_type": "display_data",
          "data": {
            "image/png": "[encoded data removed]",
            "text/plain": [
              "<Figure size 720x360 with 20 Axes>"
            ]
          },
          "metadata": {
            "tags": []
          }
        },
        {
          "output_type": "display_data",
          "data": {
            "image/png": "[encoded data removed]",
            "text/plain": [
              "<Figure size 720x360 with 20 Axes>"
            ]
          },
          "metadata": {
            "tags": []
          }
        },
        {
          "output_type": "stream",
          "text": [
            "[0.18754582]\n",
            "[1.3337698]\n",
            "[0.07946939]\n",
            "[1.4446068]\n",
            "[0.14834742]\n",
            "[1.1516165]\n",
            "[0.23091802]\n",
            "[1.071288]\n",
            "[0.24541196]\n",
            "[1.1644953]\n",
            "[0.1913437]\n",
            "[1.5523615]\n",
            "[0.10591801]\n",
            "[1.1770581]\n",
            "[0.08508992]\n",
            "[1.1937366]\n",
            "[0.08196243]\n",
            "[1.1436502]\n",
            "[0.14193682]\n",
            "[1.2800823]\n"
          ],
          "name": "stdout"
        }
      ]
    },
    {
      "cell_type": "code",
      "metadata": {
        "id": "s2gJy2Qsgvrc",
        "colab_type": "code",
        "colab": {}
      },
      "source": [
        ""
      ],
      "execution_count": 0,
      "outputs": []
    },
    {
      "cell_type": "code",
      "metadata": {
        "id": "CcgjhWBRg8eh",
        "colab_type": "code",
        "colab": {}
      },
      "source": [
        ""
      ],
      "execution_count": 0,
      "outputs": []
    }
  ]
}